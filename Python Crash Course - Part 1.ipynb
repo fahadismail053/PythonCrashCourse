{
 "cells": [
  {
   "cell_type": "markdown",
   "metadata": {},
   "source": [
    "# Hello , This is a python crash course"
   ]
  },
  {
   "cell_type": "markdown",
   "metadata": {},
   "source": [
    "### Lets get started\n",
    "1. Python is a Dynamic language ( everything in this language is dynamic, we dont have to specify data types as of C/C++/Java)\n",
    "2. It is an Interpreted Language (line by line execution)\n",
    "3. It is a human-readable language.\n",
    "4. Easily understandable|Less complex.\n",
    "5. Indentations need to be checked While writing Loops|Functions|Classes etc. "
   ]
  },
  {
   "cell_type": "markdown",
   "metadata": {},
   "source": [
    "###### Python is as simple as asking someone to do something.\n",
    "###### Lets see what we can do with python.\n",
    "###### Getting Started with the Print()"
   ]
  },
  {
   "cell_type": "markdown",
   "metadata": {},
   "source": [
    "\n",
    "# Printing Numbers : int:123,float:2.6"
   ]
  },
  {
   "cell_type": "code",
   "execution_count": 7,
   "metadata": {},
   "outputs": [
    {
     "name": "stdout",
     "output_type": "stream",
     "text": [
      "123\n"
     ]
    }
   ],
   "source": [
    "print(123)"
   ]
  },
  {
   "cell_type": "code",
   "execution_count": 14,
   "metadata": {
    "scrolled": true
   },
   "outputs": [
    {
     "name": "stdout",
     "output_type": "stream",
     "text": [
      "2.6\n"
     ]
    }
   ],
   "source": [
    "print(2.6)"
   ]
  },
  {
   "cell_type": "markdown",
   "metadata": {},
   "source": [
    "# Python Arithmetic Operators"
   ]
  },
  {
   "cell_type": "code",
   "execution_count": 16,
   "metadata": {},
   "outputs": [
    {
     "name": "stdout",
     "output_type": "stream",
     "text": [
      "12\n",
      "8\n",
      "20\n",
      "5.0\n",
      "0\n",
      "100\n"
     ]
    }
   ],
   "source": [
    "print(10+2) #Add\n",
    "print(10-2) #Subtract\n",
    "print(10*2) #Multiply\n",
    "print(10/2) #Divide returns Quotient\n",
    "print(10%2) #Divide returns Remainder\n",
    "print(10**2) #Power"
   ]
  },
  {
   "cell_type": "markdown",
   "metadata": {},
   "source": [
    "# Variables and Assignments"
   ]
  },
  {
   "cell_type": "markdown",
   "metadata": {},
   "source": [
    "######    \"Variables store Information that we can use in our programs\"\n",
    "###### \"Assignment operator '=' is used to assign any value to the variables\""
   ]
  },
  {
   "cell_type": "code",
   "execution_count": 10,
   "metadata": {},
   "outputs": [
    {
     "name": "stdout",
     "output_type": "stream",
     "text": [
      "21\n",
      "83.7\n"
     ]
    }
   ],
   "source": [
    "#Storing some Integer and Float values in a variable and calling print()\n",
    "\n",
    "int_value = 21        #int_value is a variable to which we have assigned an integer\n",
    "float_value = 83.7    #float_value is a variable for floating point numbers\n",
    "\n",
    "print(int_value)\n",
    "print(float_value)"
   ]
  },
  {
   "cell_type": "markdown",
   "metadata": {},
   "source": [
    "   # Strings"
   ]
  },
  {
   "cell_type": "markdown",
   "metadata": {},
   "source": [
    "###### In PYTHON , a single alphabet of the collection of alphabets are considered as a STRING.\n",
    "###### Lets try how it works :    \n",
    "###### Anything you write inside \"\" will become as String"
   ]
  },
  {
   "cell_type": "code",
   "execution_count": 7,
   "metadata": {},
   "outputs": [
    {
     "name": "stdout",
     "output_type": "stream",
     "text": [
      "Hello World\n",
      "<class 'str'>\n",
      "This is my first string line.\n",
      "This is second and,\n",
      "This is my last. \n"
     ]
    }
   ],
   "source": [
    "print(\"Hello World\") #hello world is a string in here\n",
    "\n",
    "#we can check the type by using the predefined method type()\n",
    "print(type(\"Hello World\"))\n",
    "\n",
    "#we can also write a multi-line string\n",
    "ML_String = '''This is my first string line.\n",
    "This is second and,\n",
    "This is my last. '''\n",
    "\n",
    "print(ML_String)"
   ]
  },
  {
   "cell_type": "code",
   "execution_count": 12,
   "metadata": {},
   "outputs": [
    {
     "name": "stdout",
     "output_type": "stream",
     "text": [
      "Hello This is my First Python Notebook\n"
     ]
    }
   ],
   "source": [
    "string_value = \"Hello This is my First Python Notebook\"\n",
    "\n",
    "print(string_value)"
   ]
  },
  {
   "cell_type": "markdown",
   "metadata": {},
   "source": [
    "# Lets Learn about Indexing,String Literals and Slicing"
   ]
  },
  {
   "cell_type": "code",
   "execution_count": 34,
   "metadata": {},
   "outputs": [
    {
     "name": "stdout",
     "output_type": "stream",
     "text": [
      "H\n",
      "W\n"
     ]
    }
   ],
   "source": [
    "s = \"HelloWorld\"\n",
    "\n",
    "#string[start:stop:stepover|jump|skip]\n",
    "\n",
    "#print H from the string s\n",
    "print(s[0])\n",
    "\n",
    "#print W from the string s\n",
    "print(s[5])"
   ]
  },
  {
   "cell_type": "code",
   "execution_count": 20,
   "metadata": {},
   "outputs": [
    {
     "name": "stdout",
     "output_type": "stream",
     "text": [
      "d\n",
      "d\n"
     ]
    }
   ],
   "source": [
    "#print d from the string s\n",
    "print(s[9])\n",
    "print(s[-1]) #we can also traverse in a reverse manner"
   ]
  },
  {
   "cell_type": "code",
   "execution_count": 21,
   "metadata": {},
   "outputs": [
    {
     "name": "stdout",
     "output_type": "stream",
     "text": [
      "loW\n"
     ]
    }
   ],
   "source": [
    "#print the slice loW \n",
    "print(s[3:6])"
   ]
  },
  {
   "cell_type": "code",
   "execution_count": 37,
   "metadata": {},
   "outputs": [
    {
     "name": "stdout",
     "output_type": "stream",
     "text": [
      "World\n",
      "Hlool\n"
     ]
    }
   ],
   "source": [
    "#print from W to end\n",
    "print(s[5:])\n",
    "\n",
    "#print from 0 to 9 by skipping the next\n",
    "print(s[0:10:2])"
   ]
  },
  {
   "cell_type": "code",
   "execution_count": 44,
   "metadata": {},
   "outputs": [
    {
     "name": "stdout",
     "output_type": "stream",
     "text": [
      "10\n"
     ]
    }
   ],
   "source": [
    "#print the length of the string\n",
    "print(len(s))   #length is a predefined function in python"
   ]
  },
  {
   "cell_type": "markdown",
   "metadata": {},
   "source": [
    "# String Concatenation"
   ]
  },
  {
   "cell_type": "code",
   "execution_count": 12,
   "metadata": {},
   "outputs": [
    {
     "name": "stdout",
     "output_type": "stream",
     "text": [
      "Bye World\n",
      "Hello World\n"
     ]
    }
   ],
   "source": [
    "#By using + operator we can concat the strings\n",
    "\n",
    "print(\"Bye \"+\"World\") #shortcut\n",
    "\n",
    "\n",
    "first = \"Hello \"\n",
    "second = \"World\"\n",
    "\n",
    "concat = first + second #concatination\n",
    "print(concat)"
   ]
  },
  {
   "cell_type": "code",
   "execution_count": 11,
   "metadata": {},
   "outputs": [
    {
     "name": "stdout",
     "output_type": "stream",
     "text": [
      "Hello Fahad, I got to know that you are 23 now.\n"
     ]
    }
   ],
   "source": [
    "#Lets see if we can use numbers as a string\n",
    "\n",
    "name = 'Fahad'\n",
    "age = '23'\n",
    "\n",
    "concat = 'Hello '+name +', I got to know that you are '+age +' now.'\n",
    "print(concat)"
   ]
  },
  {
   "cell_type": "markdown",
   "metadata": {},
   "source": [
    "# Escape Sequence"
   ]
  },
  {
   "cell_type": "code",
   "execution_count": 15,
   "metadata": {},
   "outputs": [],
   "source": [
    "#This comes into play whenever we are using apostrophe in a string : \"john's pet is \"kind of\" a crazy\"\n",
    "\n",
    "print(\"john's pet is \"kind of\" a crazy\") #you see here we can't get everything as a string"
   ]
  },
  {
   "cell_type": "code",
   "execution_count": 16,
   "metadata": {},
   "outputs": [
    {
     "name": "stdout",
     "output_type": "stream",
     "text": [
      "john's pet is \"kind of\" a crazy\n"
     ]
    }
   ],
   "source": [
    "#To overcome this we use back_slash \"\\\" this will tell the interpreter that ,the next thing to it is also a string'''\n",
    "\n",
    "print(\"john's pet is \\\"kind of\\\" a crazy\")"
   ]
  },
  {
   "cell_type": "markdown",
   "metadata": {},
   "source": [
    "# Type Conversion"
   ]
  },
  {
   "cell_type": "code",
   "execution_count": 22,
   "metadata": {},
   "outputs": [
    {
     "name": "stdout",
     "output_type": "stream",
     "text": [
      "5.0\n",
      "7\n",
      "20\n",
      "<class 'str'>\n"
     ]
    }
   ],
   "source": [
    "#We can convert the data types from any to any.\n",
    "\n",
    "#From Int to Float\n",
    "print(float(5))         #It will add a value equal to zero after decimal point\n",
    "\n",
    "#From Float to Int\n",
    "print(int(7.8))         #It will convert & print only the value before decimal point\n",
    "\n",
    "#From Int to Str\n",
    "print(str(20))          #It will convert the Integer to String\n",
    "\n",
    "#lets check the type\n",
    "print(type(str(20)))   #we can see here int is converted to str"
   ]
  },
  {
   "cell_type": "markdown",
   "metadata": {},
   "source": [
    "# Formatted Strings"
   ]
  },
  {
   "cell_type": "code",
   "execution_count": 31,
   "metadata": {},
   "outputs": [
    {
     "name": "stdout",
     "output_type": "stream",
     "text": [
      "my name is Fahad and i'm 23 years old\n",
      "my name is Fahad and i'm 23 years old\n",
      "my name is Fahad and i'm 23 years old\n",
      "my name is Fahad and i'm 23 years old\n"
     ]
    }
   ],
   "source": [
    "#Formatting is done when you access the data dynamically using certain methods\n",
    "\n",
    "name = 'Fahad'\n",
    "age = 23\n",
    "\n",
    "#using + operator\n",
    "print('my name is '+name +' and i\\'m '+str(age) +' years old')  #type conversion is used\n",
    "\n",
    "#using the f string\n",
    "print(f'my name is {name} and i\\'m {age} years old')\n",
    "\n",
    "#using the .format method\n",
    "print('my name is {} and i\\'m {} years old'.format(name,age))\n",
    "\n",
    "#make sure we are maintaning the sequence\n",
    "\n",
    "print('my name is {0} and i\\'m {1} years old'.format(name,age))"
   ]
  },
  {
   "cell_type": "markdown",
   "metadata": {},
   "source": [
    "# Immutability"
   ]
  },
  {
   "cell_type": "code",
   "execution_count": 48,
   "metadata": {},
   "outputs": [],
   "source": [
    "#Strings are immutable, it can't be changed once it is created\n",
    "test = \"HelloThere\"\n",
    "\n",
    "test[0] = 'Y' #we get 'str' object doesn't support assignment error"
   ]
  },
  {
   "cell_type": "code",
   "execution_count": 49,
   "metadata": {},
   "outputs": [
    {
     "name": "stdout",
     "output_type": "stream",
     "text": [
      "zelloThere\n"
     ]
    }
   ],
   "source": [
    "#we can replace the existing string with a new one, but can't modify.\n",
    "\n",
    "test = 'zelloThere'\n",
    "print(test)"
   ]
  },
  {
   "cell_type": "markdown",
   "metadata": {},
   "source": [
    "# Boolean"
   ]
  },
  {
   "cell_type": "code",
   "execution_count": 57,
   "metadata": {},
   "outputs": [
    {
     "name": "stdout",
     "output_type": "stream",
     "text": [
      "True\n",
      "\n",
      "\n",
      "False\n"
     ]
    }
   ],
   "source": [
    "#Boolean is just a 0 and 1 (or) a True and False\n",
    "\n",
    "is_fahad_male = True\n",
    "\n",
    "is_fahad_female = False\n",
    "\n",
    "print(is_fahad_male)\n",
    "print(\"\\n\")\n",
    "print(is_fahad_female)"
   ]
  },
  {
   "cell_type": "markdown",
   "metadata": {},
   "source": [
    "# Python Data Structures"
   ]
  },
  {
   "cell_type": "code",
   "execution_count": 60,
   "metadata": {},
   "outputs": [],
   "source": [
    "#(1. List 2. Tuple 3. Sets 4. Dictionary)"
   ]
  },
  {
   "cell_type": "code",
   "execution_count": 61,
   "metadata": {},
   "outputs": [],
   "source": [
    "# Lets get started.\n",
    "\n",
    "#All these Data Structures are the collection of different types of data\n",
    "#They differ from each other in there appearance and functionality\n",
    "\n",
    "#1. LIST        :  ORDERED , CHANGEABLE , CAN CONTAIN DUPLICATES    [data]\n",
    "#2. TUPLE       :  ORDERED , UNCHANGEABLE , CAN CONTAIN DUPLICATES  (data)\n",
    "#3. SETS        :  UNORDERED, UNINDEXED , NO DUPLICATES             {data} \n",
    "#4. DICTIONARY  :  UNORDERED, CHANGEABLE , NO DUPLICATES            {key:value}"
   ]
  },
  {
   "cell_type": "markdown",
   "metadata": {},
   "source": [
    "# Lists"
   ]
  },
  {
   "cell_type": "code",
   "execution_count": 62,
   "metadata": {
    "scrolled": true
   },
   "outputs": [
    {
     "name": "stdout",
     "output_type": "stream",
     "text": [
      "['apple', 'banana', 5, 456, 'orange']\n"
     ]
    }
   ],
   "source": [
    "#1. LIST : ORDERED , CHANGEABLE , CAN CONTAIN DUPLICATES    [data]\n",
    "\n",
    "#Creating a List\n",
    "this_list = ['apple','banana',5,456,'orange']\n",
    "\n",
    "print(this_list)"
   ]
  },
  {
   "cell_type": "code",
   "execution_count": 64,
   "metadata": {},
   "outputs": [
    {
     "name": "stdout",
     "output_type": "stream",
     "text": [
      "banana\n",
      "orange\n"
     ]
    }
   ],
   "source": [
    "#Accessing Items\n",
    "\n",
    "#print second item in the list\n",
    "print(this_list[1]) #indexes starts with 0\n",
    "\n",
    "#print the last item\n",
    "print(this_list[-1])"
   ]
  },
  {
   "cell_type": "code",
   "execution_count": 71,
   "metadata": {},
   "outputs": [
    {
     "name": "stdout",
     "output_type": "stream",
     "text": [
      "['apple', 'Grapes', 5, 456, 'orange']\n",
      "5\n"
     ]
    }
   ],
   "source": [
    "#Change Banana to Grapes\n",
    "\n",
    "this_list[1] = 'Grapes'\n",
    "print(this_list)\n",
    "\n",
    "#length of the list\n",
    "print(len(this_list))"
   ]
  },
  {
   "cell_type": "code",
   "execution_count": 84,
   "metadata": {},
   "outputs": [
    {
     "name": "stdout",
     "output_type": "stream",
     "text": [
      "apple\n",
      "banana\n",
      "5\n",
      "456\n",
      "orange\n"
     ]
    }
   ],
   "source": [
    "#Skip these blocks if you aren't aware of conditional statements, come back after it is being discussed.\n",
    "\n",
    "#print the list items one after another (iteration)\n",
    "\n",
    "this_list = ['apple','banana',5,456,'orange']\n",
    "\n",
    "for items in this_list:\n",
    "    print(items)"
   ]
  },
  {
   "cell_type": "code",
   "execution_count": 79,
   "metadata": {},
   "outputs": [
    {
     "name": "stdout",
     "output_type": "stream",
     "text": [
      "exists\n",
      "doesnt exist\n"
     ]
    }
   ],
   "source": [
    "#check if item exists (5)\n",
    "\n",
    "if 5 in this_list:\n",
    "    print(\"exists\")\n",
    "else:\n",
    "    print(\"doesnt exist\")\n",
    "\n",
    "#check if hello exists\n",
    "if 'hello' in this_list:\n",
    "    print(\"exists\")\n",
    "else:\n",
    "    print(\"doesnt exist\")"
   ]
  },
  {
   "cell_type": "markdown",
   "metadata": {},
   "source": [
    "# list methods"
   ]
  },
  {
   "cell_type": "code",
   "execution_count": 85,
   "metadata": {},
   "outputs": [
    {
     "name": "stdout",
     "output_type": "stream",
     "text": [
      "['apple', 'banana', 5, 456, 'orange', 'book']\n",
      "['apple', 5, 456, 'orange', 'book']\n",
      "['apple', 5, 456, 'book']\n",
      "['apple', 456, 'book']\n",
      "[]\n"
     ]
    }
   ],
   "source": [
    "\n",
    "#add items to the list .append()\n",
    "this_list.append('book')\n",
    "print(this_list)\n",
    "\n",
    "#remove item from the list .remove()\n",
    "this_list.remove('banana')\n",
    "print(this_list)\n",
    "\n",
    "#pop using index .pop()\n",
    "this_list.pop(3)\n",
    "print(this_list)\n",
    "\n",
    "#del can also be used to remove from the specified index\n",
    "del this_list[1]\n",
    "print(this_list)\n",
    "\n",
    "#clear() method to empty the list\n",
    "this_list.clear()\n",
    "print(this_list)\n",
    "\n",
    "#del will delete the list\n",
    "del this_list\n",
    "#if we print(this_list) we will get the NameEror : name 'this_list' is not defined"
   ]
  },
  {
   "cell_type": "markdown",
   "metadata": {},
   "source": [
    "# Constructor"
   ]
  },
  {
   "cell_type": "code",
   "execution_count": 95,
   "metadata": {},
   "outputs": [
    {
     "name": "stdout",
     "output_type": "stream",
     "text": [
      "['apple', 'banana', 5, 456, 'orange', 'book']\n",
      "\n",
      "\n",
      "[0, 1, 2, 3, 4, 5, 6, 7, 8, 9, 10, 11, 12, 13, 14, 15, 16, 17, 18, 19, 20, 21, 22, 23, 24, 25, 26, 27, 28, 29, 30, 31, 32, 33, 34, 35, 36, 37, 38, 39, 40, 41, 42, 43, 44, 45, 46, 47, 48, 49, 50, 51, 52, 53, 54, 55, 56, 57, 58, 59, 60, 61, 62, 63, 64, 65, 66, 67, 68, 69, 70, 71, 72, 73, 74, 75, 76, 77, 78, 79, 80, 81, 82, 83, 84, 85, 86, 87, 88, 89, 90, 91, 92, 93, 94, 95, 96, 97, 98, 99, 100]\n"
     ]
    }
   ],
   "source": [
    "#To create a list using the list() constructor\n",
    "new_list = list(('apple', 'banana', 5, 456, 'orange', 'book'))\n",
    "print(new_list)\n",
    "print(\"\\n\")\n",
    "\n",
    "#Creating list with the range() method\n",
    "lisst = list(range(0,101)) #range(start,stop,skip) in stop it will not include that specific no. like 101\n",
    "print(lisst)"
   ]
  },
  {
   "cell_type": "markdown",
   "metadata": {},
   "source": [
    "# Join Method()"
   ]
  },
  {
   "cell_type": "code",
   "execution_count": 97,
   "metadata": {},
   "outputs": [
    {
     "name": "stdout",
     "output_type": "stream",
     "text": [
      "hi my name is fahad \n",
      "\n",
      "hello :) welcome :) to :) the :) python :) CrashCourse\n"
     ]
    }
   ],
   "source": [
    "#join() method\n",
    "empty_sentence = ' '\n",
    "sentence = empty_sentence.join(['hi','my','name','is','fahad'])\n",
    "print(sentence, \"\\n\")\n",
    "\n",
    "#another way\n",
    "sentence = ' :) '.join(['hello','welcome','to','the','python','CrashCourse']) \n",
    "#any thing in that quotes ' ' will be appended to every element in the list\n",
    "print(sentence)"
   ]
  },
  {
   "cell_type": "markdown",
   "metadata": {},
   "source": [
    "# Matrix"
   ]
  },
  {
   "cell_type": "code",
   "execution_count": 103,
   "metadata": {},
   "outputs": [
    {
     "name": "stdout",
     "output_type": "stream",
     "text": [
      "[[1, 2, 3], [4, 5, 6], [7, 8, 9]] \n",
      "\n",
      "5\n"
     ]
    }
   ],
   "source": [
    "#Matrix\n",
    "matrix = [    #This is a list of lists\n",
    "    [1,2,3],  # 0 index\n",
    "    [4,5,6],  #index 1\n",
    "    [7,8,9]   #index 2\n",
    "]\n",
    "print(matrix,\"\\n\")\n",
    "\n",
    "#How to get the number 5 from the matrix\n",
    "print(matrix[1][1])"
   ]
  },
  {
   "cell_type": "markdown",
   "metadata": {},
   "source": [
    "# List Unpacking"
   ]
  },
  {
   "cell_type": "code",
   "execution_count": 109,
   "metadata": {},
   "outputs": [
    {
     "name": "stdout",
     "output_type": "stream",
     "text": [
      "1\n",
      "2\n",
      "3 \n",
      "\n",
      "1\n",
      "2\n",
      "3\n",
      "[4, 5, 6, 7, 8] \n",
      "\n",
      "1\n",
      "2\n",
      "3\n",
      "[4, 5, 6, 7]\n",
      "8\n"
     ]
    }
   ],
   "source": [
    "a,b,c = [1,2,3]  #each element is assigned to a variable\n",
    "\n",
    "print(a)\n",
    "print(b)\n",
    "print(c,'\\n')\n",
    "\n",
    "a,b,c, *rest = [1,2,3,4,5,6,7,8]   #all the remaining values are assigned to *rest\n",
    "\n",
    "print(a)\n",
    "print(b)\n",
    "print(c)\n",
    "print(rest,'\\n')\n",
    "\n",
    "a,b,c,*rest,d = [1,2,3,4,5,6,7,8] #the last value will be assigned to d\n",
    "\n",
    "print(a)\n",
    "print(b)\n",
    "print(c)\n",
    "print(rest)\n",
    "print(d)"
   ]
  },
  {
   "cell_type": "code",
   "execution_count": null,
   "metadata": {},
   "outputs": [],
   "source": [
    "#some useful list methods\n",
    "insert()\n",
    "update()\n",
    "reverse()\n",
    "sort()\n",
    "count()\n",
    "extend()\n",
    "index()\n",
    "copy()\n",
    "sorted()"
   ]
  },
  {
   "cell_type": "markdown",
   "metadata": {},
   "source": [
    "# Tuple"
   ]
  },
  {
   "cell_type": "code",
   "execution_count": 89,
   "metadata": {},
   "outputs": [
    {
     "name": "stdout",
     "output_type": "stream",
     "text": [
      "('apple', 'banana', 5, 456, 'orange')\n"
     ]
    }
   ],
   "source": [
    "#2. TUPLE  :  ORDERED , UNCHANGEABLE , CAN CONTAIN DUPLICATES  (data)\n",
    "\n",
    "#TUPLE and LISTS are almost similar\n",
    "\n",
    "#Creating a Tuple\n",
    "this_tuple = ('apple','banana',5,456,'orange')\n",
    "\n",
    "print(this_tuple)"
   ]
  },
  {
   "cell_type": "code",
   "execution_count": 90,
   "metadata": {},
   "outputs": [
    {
     "name": "stdout",
     "output_type": "stream",
     "text": [
      "banana\n",
      "orange\n"
     ]
    }
   ],
   "source": [
    "#Accessing Items\n",
    "\n",
    "#print second item in the Tuple\n",
    "print(this_tuple[1]) #indexes starts with 0\n",
    "\n",
    "#print the last Tuple\n",
    "print(this_tuple[-1])"
   ]
  },
  {
   "cell_type": "code",
   "execution_count": 93,
   "metadata": {},
   "outputs": [
    {
     "name": "stdout",
     "output_type": "stream",
     "text": [
      "5\n"
     ]
    }
   ],
   "source": [
    "#In tuples we cannot modify the items (append,del,remove)\n",
    "\n",
    "#length of the tuple\n",
    "print(len(this_tuple))"
   ]
  },
  {
   "cell_type": "markdown",
   "metadata": {},
   "source": [
    "# Tuple methods"
   ]
  },
  {
   "cell_type": "code",
   "execution_count": 114,
   "metadata": {},
   "outputs": [
    {
     "name": "stdout",
     "output_type": "stream",
     "text": [
      "2\n",
      "3\n"
     ]
    }
   ],
   "source": [
    "#Tuple has two useful methods (count & index)\n",
    "\n",
    "tupple = (1,2,3,4,5,6,7,8,5,4,3)\n",
    "\n",
    "#count() method\n",
    "print(tupple.count(4))  #to check how many 4 are there in the tuple\n",
    "\n",
    "#index() method\n",
    "print((tupple.index(4)))  #retrieving the value at index 4"
   ]
  },
  {
   "cell_type": "markdown",
   "metadata": {},
   "source": [
    "# Tuple Unpacking"
   ]
  },
  {
   "cell_type": "code",
   "execution_count": 116,
   "metadata": {},
   "outputs": [
    {
     "name": "stdout",
     "output_type": "stream",
     "text": [
      "1\n",
      "2\n",
      "3 \n",
      "\n",
      "1\n",
      "2\n",
      "3\n",
      "[4, 5, 6, 7, 8] \n",
      "\n",
      "1\n",
      "2\n",
      "3\n",
      "[4, 5, 6, 7]\n",
      "8\n"
     ]
    }
   ],
   "source": [
    "#It is almost similar to that of list unpacking\n",
    "\n",
    "a,b,c = (1,2,3)  #each element is assigned to a variable\n",
    "\n",
    "print(a)\n",
    "print(b)\n",
    "print(c,'\\n')\n",
    "\n",
    "a,b,c, *rest = (1,2,3,4,5,6,7,8)   #all the remaining values are assigned to *rest\n",
    "\n",
    "print(a)\n",
    "print(b)\n",
    "print(c)\n",
    "print(rest,'\\n')\n",
    "\n",
    "a,b,c,*rest,d = (1,2,3,4,5,6,7,8) #the last value will be assigned to d\n",
    "\n",
    "print(a)\n",
    "print(b)\n",
    "print(c)\n",
    "print(rest)\n",
    "print(d)"
   ]
  },
  {
   "cell_type": "markdown",
   "metadata": {},
   "source": [
    "# Sets"
   ]
  },
  {
   "cell_type": "code",
   "execution_count": 124,
   "metadata": {},
   "outputs": [
    {
     "name": "stdout",
     "output_type": "stream",
     "text": [
      "{1, 2, 3, 4, 5, 6, 7, 8}\n",
      "{1, 2, 3, 4, 5, 6, 7, 8, 9}\n",
      "{1, 2, 3, 4, 5, 6, 7, 8, 9}\n",
      "{'welcome', 5, 'hello', 848, 'world'}\n",
      "set()\n"
     ]
    }
   ],
   "source": [
    "#3. SETS : UNORDERED, UNINDEXED , NO DUPLICATES     {data}\n",
    "\n",
    "my_set = {1,2,3,4,5,6,7,8}\n",
    "\n",
    "print(my_set)\n",
    "\n",
    "#adding items to set\n",
    "my_set.add(9)\n",
    "my_set.add(8)   #This value will not be added as it is already there #no duplicates\n",
    "print(my_set)\n",
    "\n",
    "#copying the set\n",
    "new_set = my_set.copy()\n",
    "print(new_set)           #set is copied to the new\n",
    "\n",
    "#Creating a set using list\n",
    "my_list = ['hello',5,'welcome','world',848]\n",
    "\n",
    "my_set = set(my_list)\n",
    "print(my_set)\n",
    "\n",
    "#clear() method\n",
    "my_set.clear()\n",
    "print(my_set)"
   ]
  },
  {
   "cell_type": "markdown",
   "metadata": {},
   "source": [
    "# Specific Set methods"
   ]
  },
  {
   "cell_type": "code",
   "execution_count": 145,
   "metadata": {},
   "outputs": [
    {
     "name": "stdout",
     "output_type": "stream",
     "text": [
      "{1, 2, 3, 4, 5, 6, 7, 8}\n",
      "{1, 2, 3}\n",
      "{1, 2, 3}\n",
      "{4, 5}\n",
      "True\n",
      "True\n"
     ]
    }
   ],
   "source": [
    "my_set   = {1,2,3,4,5}\n",
    "your_set = {4,5,6,7,8}\n",
    "\n",
    "#union() method\n",
    "union = my_set.union(your_set)#it concat both the sets\n",
    "my_set | your_set  #can also be written like this\n",
    "print(union)\n",
    "\n",
    "#differece() method\n",
    "difference = my_set.difference(your_set)#It will remove the common items in both sets\n",
    "difference = my_set-your_set #it can also be written like this\n",
    "print(difference)\n",
    "\n",
    "#difference_update() method\n",
    "my_set.difference_update(your_set) #Here my_set is updated to {1,2,3} it's no more the old one.\n",
    "print(my_set)\n",
    "\n",
    "my_set   = {1,2,3,4,5}\n",
    "\n",
    "#intersection() method\n",
    "intersection = my_set.intersection(your_set) #it will return the items that are common in both sets\n",
    "my_set & your_set  #can also be written like this\n",
    "print(intersection)\n",
    "\n",
    "my_set   = {4,5}\n",
    "#issubset() method\n",
    "print(my_set.issubset(your_set)) #it checks whether the entire setA is present in setB\n",
    "\n",
    "#issuperset() method\n",
    "print(your_set.issuperset(my_set)) #it checks whether the setA has the items that setB contains."
   ]
  },
  {
   "cell_type": "markdown",
   "metadata": {},
   "source": [
    "# Dictionary"
   ]
  },
  {
   "cell_type": "code",
   "execution_count": 52,
   "metadata": {},
   "outputs": [
    {
     "name": "stdout",
     "output_type": "stream",
     "text": [
      "{'name': 'Fahad', 'age': 23, 'profession': 'Student', 'city': 'Hyderabad'}\n"
     ]
    }
   ],
   "source": [
    "#4. DICTIONARY  :  UNORDERED, CHANGEABLE , NO DUPLICATES            {key:value}\n",
    "\n",
    "#Dictionary is the key-value pair\n",
    "\n",
    "#Creating a dictionary      \n",
    "Dict = {'name' : 'Fahad',         #left side is considered to be the key and the right side as value\n",
    "        'age'  : 23,\n",
    "        'profession' : 'Student',\n",
    "        'city' : 'Hyderabad'\n",
    "       }\n",
    "print(Dict)"
   ]
  },
  {
   "cell_type": "code",
   "execution_count": 45,
   "metadata": {},
   "outputs": [
    {
     "name": "stdout",
     "output_type": "stream",
     "text": [
      "Fahad\n",
      "Hyderabad\n"
     ]
    }
   ],
   "source": [
    "#Accessing data from the dictionary\n",
    "\n",
    "#getting values using keys\n",
    "print(Dict['name'])    #will print the values that this keys has.\n",
    "print(Dict['city'])"
   ]
  },
  {
   "cell_type": "markdown",
   "metadata": {},
   "source": [
    "# Dictionary Methods"
   ]
  },
  {
   "cell_type": "code",
   "execution_count": 54,
   "metadata": {},
   "outputs": [
    {
     "name": "stdout",
     "output_type": "stream",
     "text": [
      "dict_items([('name', 'Fahad'), ('age', 23), ('profession', 'Student'), ('city', 'Hyderabad')])\n",
      "\n",
      "\n",
      "dict_keys(['name', 'age', 'profession', 'city'])\n",
      "\n",
      "\n",
      "dict_values(['Fahad', 23, 'Student', 'Hyderabad'])\n",
      "\n",
      "\n",
      "23\n",
      "Hyderabad\n",
      "None\n",
      "India\n",
      "{'name': 'Fahad', 'age': 23, 'profession': 'Student', 'city': 'Hyderabad'}\n",
      "\n",
      "\n",
      "age is popped {'name': 'Fahad', 'profession': 'Student', 'city': 'Hyderabad'}\n",
      "\n",
      "\n",
      "age is updated {'name': 'Fahad', 'profession': 'Student', 'city': 'Hyderabad', 'age': 23}\n"
     ]
    }
   ],
   "source": [
    "#Printing Dictionary items\n",
    "print(Dict.items())             #both the keys and values will be printed\n",
    "print('\\n')\n",
    "\n",
    "#Printing Dictionary keys\n",
    "print(Dict.keys())              #it will print the keys\n",
    "print('\\n')\n",
    "\n",
    "#Printing Values\n",
    "print(Dict.values())     #it will print the values\n",
    "print('\\n')\n",
    "\n",
    "#Accessing data using get() method\n",
    "print(Dict.get('age'))\n",
    "\n",
    "print(Dict.get('city'))\n",
    "\n",
    "print(Dict.get('country')) #here instead of getting an error we get none.It means there is no country key,which we can create.\n",
    "\n",
    "#Calling a default value for the key\n",
    "print(Dict.get('country','India'))\n",
    "\n",
    "#Copy() method\n",
    "new_dict = Dict.copy()   #dictionary is copied to new_dict variable\n",
    "print(new_dict)\n",
    "print('\\n')\n",
    "\n",
    "#pop() method\n",
    "pop = Dict.pop('age')             #age is deleted from the dictionary\n",
    "print(f'age is popped',Dict)\n",
    "print('\\n')\n",
    "\n",
    "#update() method\n",
    "update = Dict.update({'age':23})   #a new key value pair will be added\n",
    "print(f'age is updated',Dict)"
   ]
  },
  {
   "cell_type": "markdown",
   "metadata": {},
   "source": [
    "# Iterating .items(), .keys(), .values()"
   ]
  },
  {
   "cell_type": "code",
   "execution_count": 65,
   "metadata": {},
   "outputs": [
    {
     "name": "stdout",
     "output_type": "stream",
     "text": [
      "('name', 'Fahad')\n",
      "('profession', 'Student')\n",
      "('city', 'Hyderabad')\n",
      "('age', 23)\n",
      "\n",
      "\n",
      "name\n",
      "profession\n",
      "city\n",
      "age\n",
      "\n",
      "\n",
      "Fahad\n",
      "Student\n",
      "Hyderabad\n",
      "23\n"
     ]
    }
   ],
   "source": [
    "#iterating the items() method\n",
    "\n",
    "for items in Dict.items():\n",
    "    print(items)\n",
    "print('\\n')\n",
    "    \n",
    "for keys in Dict.keys():\n",
    "    print(keys)\n",
    "print('\\n')\n",
    "    \n",
    "for values in Dict.values():\n",
    "    print(values)"
   ]
  },
  {
   "cell_type": "markdown",
   "metadata": {},
   "source": [
    "# Constructor"
   ]
  },
  {
   "cell_type": "code",
   "execution_count": 74,
   "metadata": {},
   "outputs": [
    {
     "name": "stdout",
     "output_type": "stream",
     "text": [
      "{'name': 'fahad', 'age': 23, 'city': 'Hyderabad', 'country': 'INDIA'}\n",
      "\n",
      "\n",
      "{'list': [1, 2, 3], 12345: 'numbers', True: 'bool True'}\n",
      "\n",
      "\n",
      "2\n",
      "\n",
      "\n",
      "bool True\n"
     ]
    }
   ],
   "source": [
    "#Creating a dictionary using dict()\n",
    "\n",
    "Dict_new = dict(name = 'fahad',\n",
    "                age  =  23,\n",
    "                city = 'Hyderabad',\n",
    "                country = 'INDIA'\n",
    "               )\n",
    "print(Dict_new)\n",
    "print('\\n')\n",
    "\n",
    "#You can also create dictionaries like below:\n",
    "complex_dict = { 'list' : [1,2,3],\n",
    "                12345  : 'numbers',\n",
    "                True   : 'bool True',\n",
    "    \n",
    "}\n",
    "\n",
    "print(complex_dict)\n",
    "print('\\n')\n",
    "\n",
    "#Accesing data from above dict\n",
    "\n",
    "#print 2 from list in the dictionary\n",
    "print(complex_dict['list'][1])\n",
    "print('\\n')\n",
    "print(complex_dict[True])"
   ]
  },
  {
   "cell_type": "markdown",
   "metadata": {},
   "source": [
    "# Great Work!\n",
    "\n",
    "\n",
    "#### This is the End of the Python Crash Course Part 1. Take a break if you want, will see you in the next Part. \n",
    "\n",
    "#### Till then practice everything you've learned till now.\n",
    "\n",
    "\n",
    "# Good Bye ;)"
   ]
  },
  {
   "cell_type": "code",
   "execution_count": null,
   "metadata": {},
   "outputs": [],
   "source": []
  }
 ],
 "metadata": {
  "kernelspec": {
   "display_name": "Python 3",
   "language": "python",
   "name": "python3"
  },
  "language_info": {
   "codemirror_mode": {
    "name": "ipython",
    "version": 3
   },
   "file_extension": ".py",
   "mimetype": "text/x-python",
   "name": "python",
   "nbconvert_exporter": "python",
   "pygments_lexer": "ipython3",
   "version": "3.6.8"
  }
 },
 "nbformat": 4,
 "nbformat_minor": 4
}
