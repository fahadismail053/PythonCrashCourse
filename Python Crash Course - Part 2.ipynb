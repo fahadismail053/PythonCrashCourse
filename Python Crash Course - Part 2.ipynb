{
 "cells": [
  {
   "cell_type": "markdown",
   "metadata": {},
   "source": [
    "# Python Crash Course - Part 2"
   ]
  },
  {
   "cell_type": "markdown",
   "metadata": {},
   "source": [
    "#### WELCOME BACK!"
   ]
  },
  {
   "cell_type": "markdown",
   "metadata": {},
   "source": [
    "## Let's Get Started with Conditional Statements\n",
    "\n",
    "\n",
    "# if Statement"
   ]
  },
  {
   "cell_type": "code",
   "execution_count": 10,
   "metadata": {},
   "outputs": [
    {
     "name": "stdout",
     "output_type": "stream",
     "text": [
      "True\n"
     ]
    }
   ],
   "source": [
    "#In \"if\" we check the condition if it is true we run the corressponding statements \n",
    "#if false: ignore\n",
    "\n",
    "if True:\n",
    "    print(\"True\")  # we can see here as the condition is TRUE statement is printed\n",
    "    \n",
    "if False:          \n",
    "    print(\"False\") # Here as condition is FALSE the statement is ignored"
   ]
  },
  {
   "cell_type": "markdown",
   "metadata": {},
   "source": [
    "# if-else Statement"
   ]
  },
  {
   "cell_type": "code",
   "execution_count": 14,
   "metadata": {},
   "outputs": [
    {
     "name": "stdout",
     "output_type": "stream",
     "text": [
      "b is greater ||else is printed\n"
     ]
    }
   ],
   "source": [
    "#In 'if-else' we check for the condition if TRUE run statements under it else run statements under 'else:' \n",
    "    \n",
    "a = 2\n",
    "b = 4\n",
    "\n",
    "if a > b :\n",
    "    print('a is greater' + ' ||if is printed')\n",
    "else :\n",
    "    print('b is greater' + ' ||else is printed')"
   ]
  },
  {
   "cell_type": "markdown",
   "metadata": {},
   "source": [
    "# elif Statement"
   ]
  },
  {
   "cell_type": "code",
   "execution_count": 15,
   "metadata": {},
   "outputs": [
    {
     "name": "stdout",
     "output_type": "stream",
     "text": [
      "b is greater ||elif is printed\n"
     ]
    }
   ],
   "source": [
    "#Whenever we encounter more than 2 conditions we go for 'Elif'\n",
    "\n",
    "a = 5\n",
    "b = 10\n",
    "c = 8\n",
    "\n",
    "if a > b :\n",
    "    print('a is greater' + ' ||if is printed')\n",
    "elif b > c :\n",
    "    print('b is greater' + ' ||elif is printed')\n",
    "else:\n",
    "    print('c is greater' + ' ||else is printed')"
   ]
  },
  {
   "cell_type": "markdown",
   "metadata": {},
   "source": [
    "# Ternary Operator"
   ]
  },
  {
   "cell_type": "code",
   "execution_count": 17,
   "metadata": {},
   "outputs": [
    {
     "name": "stdout",
     "output_type": "stream",
     "text": [
      "b\n"
     ]
    }
   ],
   "source": [
    "#This is a complex representation of if-else\n",
    "\n",
    "#let's understand how it works\n",
    "\n",
    "a = 5\n",
    "b = 6\n",
    "\n",
    "#First check the condition:\n",
    "   #if it is TRUE run the left-sided statements : 'print(\"a\")'\n",
    "   #if it is FALSE run the right-sided statements : 'print(\"b\")'\n",
    "\n",
    "print(\"a\") if a>b else print(\"b\")"
   ]
  },
  {
   "cell_type": "code",
   "execution_count": 19,
   "metadata": {},
   "outputs": [
    {
     "name": "stdout",
     "output_type": "stream",
     "text": [
      "c\n"
     ]
    }
   ],
   "source": [
    "#Ternary if-elif-else\n",
    "\n",
    "a = 4\n",
    "b = 5\n",
    "c = 6\n",
    "\n",
    "#First check the condition:\n",
    "    #if it is TRUE run the left-sided statements : 'print(\"a\")'\n",
    "#Else check the next condition:\n",
    "    #if it is TRUE run the left-sided statements : 'print(\"b\")'\n",
    "#Else run the right-sided statements : 'print(\"c\")'\n",
    "\n",
    "print(\"a\") if a>b else print(\"b\") if b>c else print(\"c\")"
   ]
  },
  {
   "cell_type": "markdown",
   "metadata": {},
   "source": [
    "# Short-Circuiting"
   ]
  },
  {
   "cell_type": "code",
   "execution_count": 22,
   "metadata": {},
   "outputs": [
    {
     "name": "stdout",
     "output_type": "stream",
     "text": [
      "all are equal\n",
      "\n",
      "\n",
      "if Condition satisfied\n"
     ]
    }
   ],
   "source": [
    "# whenever we have two conditions in a single operation with 'OR' & 'AND' like following:\n",
    "\n",
    "a = 1\n",
    "b = 1\n",
    "c = 1\n",
    "d = 3\n",
    "\n",
    "#In 'AND' both the conditions needs to be TRUE, then only it will run the corresponing statements.\n",
    "\n",
    "if a==b and a==c:\n",
    "    print(\"all are equal\")\n",
    "else :\n",
    "    print(\"unequal\")\n",
    "    \n",
    "#In the above it will check the 1st condn,if it is TRUE then only it will check the 2nd condn.\n",
    "# If the 1st condition is False it will directly go to the else statement and runs it.\n",
    "\n",
    "print('\\n')\n",
    "\n",
    "#In 'OR' there should be at least 1 condition TRUE, then  only it will run the corresponing code.\n",
    "\n",
    "if a==b or a==d:\n",
    "    print(\"if Condition satisfied\")\n",
    "else:\n",
    "    print(\"Condtition not satisfied\")\n",
    "    \n",
    "#In 'OR' it will check the 1st condn, if it is True then it will run the statements under it.\n",
    "#and if it is False it will check the next condn."
   ]
  },
  {
   "cell_type": "markdown",
   "metadata": {},
   "source": [
    "# is vs =="
   ]
  },
  {
   "cell_type": "code",
   "execution_count": 25,
   "metadata": {},
   "outputs": [
    {
     "name": "stdout",
     "output_type": "stream",
     "text": [
      "True\n",
      "True\n",
      "\n",
      "\n",
      "True\n",
      "False\n"
     ]
    }
   ],
   "source": [
    "#we have seen equals to '==' which checks if both have exact same values\n",
    "#we have another 'is' which checks the same value and memory_location \n",
    "\n",
    "#let me show you what i mean by this\n",
    "\n",
    "#Here both have the same locations, thats why 'is' returns TRUE\n",
    "print(5 == 5)\n",
    "print(5 is 5)\n",
    "\n",
    "print('\\n')\n",
    "\n",
    "#every new List is stored in different location, thats why 'is' returns FALSE\n",
    "print([1,2,3] == [1,2,3])\n",
    "print([1,2,3] is [1,2,3])"
   ]
  },
  {
   "cell_type": "markdown",
   "metadata": {},
   "source": [
    "# for loop"
   ]
  },
  {
   "cell_type": "code",
   "execution_count": 52,
   "metadata": {},
   "outputs": [
    {
     "name": "stdout",
     "output_type": "stream",
     "text": [
      "H\n",
      "e\n",
      "l\n",
      "l\n",
      "o\n",
      " \n",
      "W\n",
      "o\n",
      "r\n",
      "l\n",
      "d\n",
      "\n",
      "\n",
      "name fahad\n",
      "age 23\n",
      "city Hyderabad\n"
     ]
    }
   ],
   "source": [
    "#loops are used when we want to run some statements for 'n' number of times\n",
    "#Also for loops are helpful while iterating some iterables\n",
    "\n",
    "for char in 'Hello World': #It will iterate every single character and prints it\n",
    "    print(char)\n",
    "print('\\n')\n",
    "#As we have seen the iterations of Lists,Tuples,Sets,Dictionaries, you can check it out.\n",
    "\n",
    "Dict = {'name':'fahad',\n",
    "        'age' : 23,\n",
    "        'city': 'Hyderabad'}\n",
    "for key,values in Dict.items():\n",
    "    print(key,values)"
   ]
  },
  {
   "cell_type": "code",
   "execution_count": 40,
   "metadata": {},
   "outputs": [
    {
     "name": "stdout",
     "output_type": "stream",
     "text": [
      "1 a\n",
      "1 b\n",
      "1 c\n",
      "2 a\n",
      "2 b\n",
      "2 c\n",
      "3 a\n",
      "3 b\n",
      "3 c\n"
     ]
    }
   ],
   "source": [
    "#multiple loops\n",
    "\n",
    "for x in [1,2,3]:\n",
    "    for y in ['a','b','c']:\n",
    "        print(x,y)"
   ]
  },
  {
   "cell_type": "markdown",
   "metadata": {},
   "source": [
    "# displaying picture using for loop"
   ]
  },
  {
   "cell_type": "code",
   "execution_count": 21,
   "metadata": {},
   "outputs": [
    {
     "name": "stdout",
     "output_type": "stream",
     "text": [
      "   *   \n",
      "  ***  \n",
      " ***** \n",
      "*******\n",
      "   *   \n",
      "   *   \n"
     ]
    }
   ],
   "source": [
    "picture = [\n",
    "    [0,0,0,1,0,0,0],\n",
    "    [0,0,1,1,1,0,0],\n",
    "    [0,1,1,1,1,1,0],     #This is a list of lists which consist of 1s and 0s\n",
    "    [1,1,1,1,1,1,1], \n",
    "    [0,0,0,1,0,0,0],     #We can see a tree if we look on the 1s in the list\n",
    "    [0,0,0,1,0,0,0]\n",
    "]\n",
    "for image in picture:       #it will traverse the list of lists and store the lists in image\n",
    "    for pixels in image:    #we traverse the image and\n",
    "        if pixels:                 #if we have 1s \n",
    "            print('*',end = '')       #we will print * and go to new line when we have none\n",
    "        else:\n",
    "            print(' ',end = '') #if we have 0s we will just print spaces and go to new line at the end\n",
    "    print('')                #it will go to new line for every iteration"
   ]
  },
  {
   "cell_type": "markdown",
   "metadata": {},
   "source": [
    "# range( ) function"
   ]
  },
  {
   "cell_type": "code",
   "execution_count": 57,
   "metadata": {},
   "outputs": [
    {
     "name": "stdout",
     "output_type": "stream",
     "text": [
      "0\n",
      "20\n",
      "40\n",
      "60\n",
      "80\n",
      "100\n",
      "\n",
      "\n",
      "hello\n",
      "hello\n",
      "hello\n",
      "hello\n",
      "hello\n",
      "[0, 1, 2, 3]\n",
      "[0, 1, 2, 3]\n"
     ]
    }
   ],
   "source": [
    "for x in range(0,101,20):   #range(start,stop,skip) it works in this way.Last num in stop is excluded.\n",
    "    print(x)\n",
    "print('\\n')\n",
    "\n",
    "for y in range(5):    #default start and skip values are '0'\n",
    "    print(\"hello\")\n",
    "    \n",
    "for z in range(2):         #it will print 2 lists with items 0-3\n",
    "    print(list(range(4)))"
   ]
  },
  {
   "cell_type": "markdown",
   "metadata": {},
   "source": [
    "# Enumerate( ) function"
   ]
  },
  {
   "cell_type": "code",
   "execution_count": 58,
   "metadata": {},
   "outputs": [
    {
     "name": "stdout",
     "output_type": "stream",
     "text": [
      "(0, 'H')\n",
      "(1, 'e')\n",
      "(2, 'l')\n",
      "(3, 'l')\n",
      "(4, 'o')\n"
     ]
    }
   ],
   "source": [
    "#Enumerate is a special kind of function, it gives the index for every single value in iterations.\n",
    "\n",
    "for char in enumerate('Hello'):\n",
    "    print(char)"
   ]
  },
  {
   "cell_type": "markdown",
   "metadata": {},
   "source": [
    "# while loop"
   ]
  },
  {
   "cell_type": "code",
   "execution_count": 7,
   "metadata": {},
   "outputs": [
    {
     "name": "stdout",
     "output_type": "stream",
     "text": [
      "1\n",
      "2\n",
      "3\n",
      "4\n",
      "\n",
      "\n",
      "1\n",
      "2\n",
      "work done\n",
      "\n",
      "1\n",
      "5\n",
      "8\n"
     ]
    }
   ],
   "source": [
    "#We have another looping method & i.e, while loop, it is somewhat different from the for loop.Let's check out.\n",
    "\n",
    "i = 1\n",
    "while i<5:  #while condition:\n",
    "    print(i)     #if we don't the increment it will end up as an infinite loop\n",
    "    i = i+1      #incremented also we can write i+=1\n",
    "print('\\n')\n",
    "\n",
    "#we can also use the else statement\n",
    "#while-else\n",
    "\n",
    "i = 1\n",
    "while i<3:\n",
    "    print(i)\n",
    "    i += 1\n",
    "else:                     #else will be executed after while has ended.\n",
    "    print('work done\\n')\n",
    "\n",
    "#iterating a list using while loop\n",
    "my_list = [1,5,8]\n",
    "i = 0\n",
    "while i<len(my_list):   #length of list is 3 so condition becomes 1<3:\n",
    "    print(my_list[i])   #accessing list_items using index and printing it.\n",
    "    i+=1"
   ]
  },
  {
   "cell_type": "markdown",
   "metadata": {},
   "source": [
    "# continue and break statements"
   ]
  },
  {
   "cell_type": "code",
   "execution_count": 25,
   "metadata": {},
   "outputs": [
    {
     "name": "stdout",
     "output_type": "stream",
     "text": [
      "hello before continue\n",
      "\n",
      "\n",
      "hello before continue\n",
      "hello before continue\n",
      "hello before continue\n",
      "\n",
      "\n",
      "1\n",
      "2\n",
      "4\n",
      "5\n"
     ]
    }
   ],
   "source": [
    "#let's first dicuss about the break\n",
    "\n",
    "#'break', it will breaks/ends the flow of program whenever called and comes out of it.\n",
    "\n",
    "i = 0\n",
    "while i<3:\n",
    "    print(\"hello before continue\")\n",
    "    i = i+1\n",
    "    break\n",
    "    print(\"hello after continue\")\n",
    "print('\\n')        \n",
    "#did you see that, the statement after break is not executed and it comes out of the loop.\n",
    "\n",
    "#let's see how continue works\n",
    "\n",
    "#'continue',stops the current iteration and goes back to beginning of the loop,but stays inside the loop\n",
    "i = 0\n",
    "while i<3:\n",
    "    print(\"hello before continue\")\n",
    "    i = i+1\n",
    "    continue\n",
    "    print(\"hello after continue\")\n",
    "print('\\n')   \n",
    "#did you see the difference.\n",
    "\n",
    "i = 1\n",
    "while i<6:\n",
    "    if i==3:          #if i is 3\n",
    "        i+=1          #i becomes 4(incremented)\n",
    "        continue    #it will send the i to the beginning of the loop and doesn't run else.\n",
    "    else:\n",
    "        print(i)\n",
    "        i+=1"
   ]
  },
  {
   "cell_type": "markdown",
   "metadata": {},
   "source": [
    "# Functions"
   ]
  },
  {
   "cell_type": "code",
   "execution_count": 51,
   "metadata": {},
   "outputs": [
    {
     "name": "stdout",
     "output_type": "stream",
     "text": [
      "a is 5\n",
      "b is 6\n",
      "sum of a and b is :  11\n",
      "\n",
      "\n",
      "a is 5\n",
      "b is 6\n",
      "sum of a and b is :  11\n",
      "\n",
      "\n",
      "a is 5\n",
      "b is 6\n",
      "sum of a and b is :  11\n"
     ]
    }
   ],
   "source": [
    "#Whenever we have to run a set of instructions at certain positions in the program we use FUNCTIONS.\n",
    "\n",
    "#to create a function we have a keyword \"def\" \n",
    "\n",
    "#syntax def function_name():statements\n",
    "\n",
    "#Creating a function\n",
    "def add():             #This is FUNCTION DEFINITION\n",
    "    a = 5\n",
    "    b = 6\n",
    "    print('a is',+a)\n",
    "    print('b is',+b)\n",
    "    print('sum of a and b is : ',+(a+b))\n",
    "    \n",
    "add()           #This is  FUNCTION CALL\n",
    "print('\\n')\n",
    "add()          #we can see here that we don't have to write all the statements every single time.\n",
    "print('\\n')\n",
    "add()          #write the function and just call the function to run all those statements."
   ]
  },
  {
   "cell_type": "markdown",
   "metadata": {},
   "source": [
    "# Picture using functions"
   ]
  },
  {
   "cell_type": "code",
   "execution_count": 52,
   "metadata": {},
   "outputs": [
    {
     "name": "stdout",
     "output_type": "stream",
     "text": [
      "   *   \n",
      "  ***  \n",
      " ***** \n",
      "*******\n",
      "   *   \n",
      "   *   \n",
      "\n",
      "\n",
      "   *   \n",
      "  ***  \n",
      " ***** \n",
      "*******\n",
      "   *   \n",
      "   *   \n",
      "\n",
      "\n",
      "   *   \n",
      "  ***  \n",
      " ***** \n",
      "*******\n",
      "   *   \n",
      "   *   \n"
     ]
    }
   ],
   "source": [
    "#As we have previously seen in for loops we have a picture\n",
    "\n",
    "def showTree():    #created a function\n",
    "    picture = [\n",
    "    [0,0,0,1,0,0,0],\n",
    "    [0,0,1,1,1,0,0],\n",
    "    [0,1,1,1,1,1,0],\n",
    "    [1,1,1,1,1,1,1],              #pasted the code from the previous(for loop) cell\n",
    "    [0,0,0,1,0,0,0],\n",
    "    [0,0,0,1,0,0,0]\n",
    "    ]\n",
    "    for images in picture:\n",
    "        for pixels in images:\n",
    "            if pixels:\n",
    "                print('*',end = '')\n",
    "            else:\n",
    "                print(' ',end = '')\n",
    "        print('')\n",
    "        \n",
    "showTree()\n",
    "print('\\n')\n",
    "showTree()        #just calling function for any number of times will display the tree.\n",
    "print('\\n')\n",
    "showTree()        #we dont require to write the code for certain times."
   ]
  },
  {
   "cell_type": "code",
   "execution_count": 53,
   "metadata": {},
   "outputs": [
    {
     "name": "stdout",
     "output_type": "stream",
     "text": [
      "my name is fahad and i'm 23 years old\n",
      "my name is fahad and i'm 23 years old\n"
     ]
    }
   ],
   "source": [
    "def info():\n",
    "    name = 'fahad'\n",
    "    age  = 23\n",
    "    print(f'my name is {name} and i\\'m {age} years old')\n",
    "\n",
    "info()\n",
    "info()\n",
    "\n",
    "#you can see in the above function, we are restricted to print other person's info\n",
    "#as we are getting only one person's info, it is limited/specific to fahad only\n",
    "\n",
    "#We can solve this issue by using parameterized functions, let's jump into it."
   ]
  },
  {
   "cell_type": "markdown",
   "metadata": {},
   "source": [
    "# Parameterized functions"
   ]
  },
  {
   "cell_type": "code",
   "execution_count": 54,
   "metadata": {},
   "outputs": [
    {
     "name": "stdout",
     "output_type": "stream",
     "text": [
      "my name is Fahad and i'm 23 years old\n",
      "my name is Saud and i'm 24 years old\n",
      "my name is Zia and i'm 24 years old\n",
      "\n",
      "\n",
      "my name is 23 and i'm Anza years old\n"
     ]
    }
   ],
   "source": [
    "# In parameterized function we have two terms \n",
    "# 1. Parameters and 2. Arguments\n",
    "# Most people get confused about which is which, so let's understand\n",
    "\n",
    "# names that we provide while defining a function are known as PARAMETERS\n",
    "\n",
    "def info(name,age):    # here 'name' and 'age' are PARAMETERS\n",
    "    print(f'my name is {name} and i\\'m {age} years old')\n",
    "\n",
    "# values that we provide while calling a function are known as ARGUMENTS    \n",
    "\n",
    "info('Fahad',23)    # here 'Fahad' and '23' are ARGUMENTS\n",
    "info('Saud',24)\n",
    "info('Zia',24)\n",
    "\n",
    "print('\\n')\n",
    "# here we can see that our function is not specific to a single person\n",
    "\n",
    "# instead it becomes dynamic, we can print any person's name and age.\n",
    "\n",
    "# MAKE SURE THE ORDER IS MAINTAINED CORRECTLY, because if you swap them see what could happen.\n",
    "\n",
    "info(23,'Anza') # It looks funny right...let's see how we can overcome this.."
   ]
  },
  {
   "cell_type": "markdown",
   "metadata": {},
   "source": [
    "# Keyword Arguments"
   ]
  },
  {
   "cell_type": "code",
   "execution_count": 44,
   "metadata": {},
   "outputs": [
    {
     "name": "stdout",
     "output_type": "stream",
     "text": [
      "my name is Anza and i'm 23 years old\n",
      "my name is Viquar and i'm 23 years old\n"
     ]
    }
   ],
   "source": [
    "info(name = 'Anza', age = 23)\n",
    "info(age = 23, name = 'Viquar')\n",
    "\n",
    "#did you see that, we can do it in either ways by using the keyword arguments"
   ]
  },
  {
   "cell_type": "code",
   "execution_count": 37,
   "metadata": {},
   "outputs": [],
   "source": [
    "#info()\n",
    "#In a parameterized function, if we don't pass anything in the function call we will get an Error.\n",
    "\n",
    "# TypeError: info() missing 2 required positional arguments: 'name' and 'age'\n",
    "\n",
    "# So to overcome this error we will pass a default parameters\n",
    "#let's check in this in the next cell"
   ]
  },
  {
   "cell_type": "markdown",
   "metadata": {},
   "source": [
    "# Default Parameters"
   ]
  },
  {
   "cell_type": "code",
   "execution_count": 55,
   "metadata": {},
   "outputs": [
    {
     "name": "stdout",
     "output_type": "stream",
     "text": [
      "my name is Anonymous and i'm 20 years old\n",
      "\n",
      "\n",
      "my name is Fahad and i'm 23 years old\n"
     ]
    }
   ],
   "source": [
    "def info(name = 'Anonymous',age = 20):\n",
    "    print(f'my name is {name} and i\\'m {age} years old')\n",
    "    \n",
    "info() \n",
    "\n",
    "print('\\n')\n",
    "info('Fahad',23)\n",
    "#now  you can see that we are not getting the TypeError which we were getting in the previous cell.\n",
    "\n",
    "# That is because we have passed default parameters,\n",
    "\n",
    "# If we have not passed any thing it will stick to the default parameters."
   ]
  },
  {
   "cell_type": "markdown",
   "metadata": {},
   "source": [
    "# return"
   ]
  },
  {
   "cell_type": "code",
   "execution_count": 59,
   "metadata": {},
   "outputs": [
    {
     "name": "stdout",
     "output_type": "stream",
     "text": [
      "9\n",
      "None\n"
     ]
    }
   ],
   "source": [
    "def add(num1 , num2):\n",
    "    print(num1 + num2)\n",
    "    \n",
    "print(add(5,4))\n",
    "\n",
    "# In the above program you can see that we are getting a None value after printing function call.\n",
    "# That is because the function has to return something, in here it returns None.."
   ]
  },
  {
   "cell_type": "code",
   "execution_count": 60,
   "metadata": {},
   "outputs": [
    {
     "name": "stdout",
     "output_type": "stream",
     "text": [
      "9\n"
     ]
    }
   ],
   "source": [
    "# So let's rewrite the function with return\n",
    "\n",
    "def add(num1 , num2):\n",
    "     \n",
    "    return num1 + num2    # Instead of print we will write return\n",
    "    \n",
    "print(add(5,4))\n",
    "\n",
    "# we can see that we din't get the 'None'"
   ]
  },
  {
   "cell_type": "markdown",
   "metadata": {},
   "source": [
    "# Methods and Functions"
   ]
  },
  {
   "cell_type": "code",
   "execution_count": 73,
   "metadata": {},
   "outputs": [],
   "source": [
    "# Function is a piece of code that is called by name and data can be passed to it.\n",
    "\n",
    "# Method is a piece of code associated with the object\n",
    "\n",
    "# In simple lang : methods are called with obj.method and functions by name directly func(parameters).\n",
    "\n",
    "#FUNCTIONS\n",
    "int(4.5)\n",
    "len('hello')\n",
    "max(5,8)\n",
    "\n",
    "#METHODS\n",
    "'hello'.upper()\n",
    "'123'.isnumeric()\n",
    "['obj',12].clear()"
   ]
  },
  {
   "cell_type": "markdown",
   "metadata": {},
   "source": [
    "# Docstrings"
   ]
  },
  {
   "cell_type": "code",
   "execution_count": 77,
   "metadata": {},
   "outputs": [
    {
     "name": "stdout",
     "output_type": "stream",
     "text": [
      "Help on function add in module __main__:\n",
      "\n",
      "add(num1, num2)\n",
      "    info : This functions adds two numbers\n",
      "\n"
     ]
    },
    {
     "data": {
      "text/plain": [
       "'\\n    info : This functions adds two numbers\\n    '"
      ]
     },
     "execution_count": 77,
     "metadata": {},
     "output_type": "execute_result"
    }
   ],
   "source": [
    "# It is a really good thing which will help our teammates to understand what this function does.\n",
    "# It is written inside a triple quotation\n",
    "\n",
    "def add(num1 , num2):\n",
    "    '''\n",
    "    info : This functions adds two numbers\n",
    "    '''\n",
    "    return num1 + num2\n",
    "\n",
    "# when we call the help function or the __doc__ method we get what the function does.\n",
    "\n",
    "help(add)\n",
    "\n",
    "add.__doc__"
   ]
  },
  {
   "cell_type": "markdown",
   "metadata": {},
   "source": [
    "# args and kwargs"
   ]
  },
  {
   "cell_type": "code",
   "execution_count": 93,
   "metadata": {},
   "outputs": [
    {
     "name": "stdout",
     "output_type": "stream",
     "text": [
      "args(1, 2, 3, 4, 5, 6, 7, 8)\n",
      "\n",
      "\n",
      "kwargs{'num1': 1, 'num2': 2, 'num3': 3, 'num4': 4, 'num5': 5}\n"
     ]
    },
    {
     "data": {
      "text/plain": [
       "15"
      ]
     },
     "execution_count": 93,
     "metadata": {},
     "output_type": "execute_result"
    }
   ],
   "source": [
    "# When we are not aware of the parameters to be passed we can use these types\n",
    "\n",
    "# 'args' will allow us to pass 'n' number of arguments and returns a tuple,represented as *parameter\n",
    "def add(*args):\n",
    "    print(f'args{args}')\n",
    "    return sum(args)\n",
    "    \n",
    "add(1,2,3,4,5,6,7,8)\n",
    "print('\\n')\n",
    "\n",
    "# 'kwargs' will allow us to pass 'n' number of keyword arguments and returns a dictionary,represented as **parameter\n",
    "def add(**kwargs):\n",
    "    print(f'kwargs{kwargs}')  \n",
    "    total = 0\n",
    "    for items in kwargs.values():    #iterating the dictionary values\n",
    "        total += items         #summing up the numbers\n",
    "    return total \n",
    "\n",
    "add(num1 = 1,num2 = 2, num3 = 3, num4 = 4 , num5 = 5)"
   ]
  },
  {
   "cell_type": "markdown",
   "metadata": {},
   "source": [
    "# map( ) Function"
   ]
  },
  {
   "cell_type": "code",
   "execution_count": 103,
   "metadata": {
    "scrolled": true
   },
   "outputs": [
    {
     "name": "stdout",
     "output_type": "stream",
     "text": [
      "<map object at 0x0000025162A3C438> \n",
      "\n",
      "[2, 4, 6, 8, 10]\n"
     ]
    }
   ],
   "source": [
    "#map() function returns a map object(which is an iterator) of the results,\n",
    "#after applying the given function to each item of a given iterable (list, tuple etc.)\n",
    "\n",
    "def times2(num):\n",
    "    return num*2\n",
    "\n",
    "# NOTE : You can pass one or more iterable to the map() function.\n",
    "\n",
    "print(map(times2,[1,2,3,4,5]),'\\n') # Calling map method ,returns mapped object\n",
    "\n",
    "print(list(map(times2,[1,2,3,4,5]))) # Calling List method, returns square of the list"
   ]
  },
  {
   "cell_type": "markdown",
   "metadata": {},
   "source": [
    "# Lambda Expression"
   ]
  },
  {
   "cell_type": "code",
   "execution_count": 120,
   "metadata": {},
   "outputs": [
    {
     "name": "stdout",
     "output_type": "stream",
     "text": [
      "10\n",
      "\n",
      "\n",
      "[2, 4, 6, 8, 10]\n",
      "\n",
      "\n",
      "15\n",
      "12\n"
     ]
    }
   ],
   "source": [
    "# A lambda function is a small anonymous function.\n",
    "# We can carry out functions in a single line\n",
    "\n",
    "lambda num : num * 2   #It creates an object\n",
    "\n",
    "x = lambda a,b,c : a*b+c #It can also be written like this.\n",
    "\n",
    "print(x(2,4,2))\n",
    "\n",
    "print('\\n')\n",
    "# we can write the above times2 function using map in a single line.\n",
    "\n",
    "print(list(map(lambda x:x*2,[1,2,3,4,5]))) # As simple as that\n",
    "\n",
    "print('\\n')\n",
    "# Lambda is more powerful when you use it inside a function\n",
    "\n",
    "def fun(num1):\n",
    "    return lambda num2 : num2 * num1\n",
    "\n",
    "new0 = fun(5)     #num1 values are being given here\n",
    "new1 = fun(3)\n",
    "\n",
    "print(new0(3))    #num2 values are being given here\n",
    "print(new1(4))"
   ]
  },
  {
   "cell_type": "markdown",
   "metadata": {},
   "source": [
    "# Filter Function"
   ]
  },
  {
   "cell_type": "code",
   "execution_count": 126,
   "metadata": {},
   "outputs": [
    {
     "name": "stdout",
     "output_type": "stream",
     "text": [
      "[2, 4]\n"
     ]
    }
   ],
   "source": [
    "# This function filters the given data/sequence with the help of a function which tests the sequence to be true or not.\n",
    "\n",
    "filter(lambda num:num % 2==0, [1,2,3,4,5])  #This creates a filter object. Checking for even numbers.\n",
    "\n",
    "print(list(filter(lambda num:num % 2==0, [1,2,3,4,5]))) #It returns only the even numbers."
   ]
  },
  {
   "cell_type": "markdown",
   "metadata": {},
   "source": [
    "### You are doing Awesome ! "
   ]
  },
  {
   "cell_type": "markdown",
   "metadata": {},
   "source": [
    "#### This is the end of the part-2 . I hope you enjoyed learning. I'l see you in the next and the final part of PCC. Stay tuned and keep learning"
   ]
  },
  {
   "cell_type": "markdown",
   "metadata": {},
   "source": [
    "#### if you have any questions or suggestions please feel free to contact me at fahadismail053@gmail.com"
   ]
  }
 ],
 "metadata": {
  "kernelspec": {
   "display_name": "Python 3",
   "language": "python",
   "name": "python3"
  },
  "language_info": {
   "codemirror_mode": {
    "name": "ipython",
    "version": 3
   },
   "file_extension": ".py",
   "mimetype": "text/x-python",
   "name": "python",
   "nbconvert_exporter": "python",
   "pygments_lexer": "ipython3",
   "version": "3.6.8"
  }
 },
 "nbformat": 4,
 "nbformat_minor": 4
}
